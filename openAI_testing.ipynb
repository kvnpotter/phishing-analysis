{
 "cells": [
  {
   "cell_type": "code",
   "execution_count": 20,
   "metadata": {},
   "outputs": [],
   "source": [
    "import os\n",
    "from dotenv import load_dotenv\n",
    "\n",
    "env_file = \".env\"\n",
    "if os.path.exists(env_file):\n",
    "    load_dotenv(env_file)\n",
    "else:\n",
    "    raise FileNotFoundError(f\"Environment file '{env_file}' not found.\")"
   ]
  },
  {
   "cell_type": "code",
   "execution_count": 21,
   "metadata": {},
   "outputs": [],
   "source": [
    "department = \"Cybersecurity\""
   ]
  },
  {
   "cell_type": "code",
   "execution_count": 22,
   "metadata": {},
   "outputs": [],
   "source": [
    "import json\n",
    "\n",
    "# Load the JSON file\n",
    "config_file = \"config.json\"  # Replace with your JSON file's name if different\n",
    "if os.path.exists(config_file):\n",
    "    with open(config_file, \"r\") as file:\n",
    "        config = json.load(file)\n",
    "        developer_message = config[\"developer_message\"]\n",
    "        user_prompt = config[\"user_prompt\"]\n",
    "else:\n",
    "    raise FileNotFoundError(f\"Configuration file '{config_file}' not found.\")"
   ]
  },
  {
   "cell_type": "code",
   "execution_count": 23,
   "metadata": {},
   "outputs": [
    {
     "name": "stdout",
     "output_type": "stream",
     "text": [
      "Dear {{.FirstName}},\n",
      "\n",
      "As part of our ongoing efforts to enhance the security of our network, we have recently identified some irregular activities associated with your account. Given your critical role in the Cybersecurity department, it is imperative that we address this matter promptly to ensure the integrity of our systems.\n",
      "\n",
      "We are currently implementing additional security measures, and we need you to verify your account information to confirm there are no breaches. Please take a moment to update your credentials by following the link below:\n",
      "\n",
      "{{.URL}}\n",
      "\n",
      "This action is required within the next 24 hours to prevent any interruption to your access and to further secure your sensitive data. Your expertise in this area is invaluable, and we appreciate your immediate attention to this matter.\n",
      "\n",
      "Thank you for your cooperation.\n",
      "\n",
      "Best regards,  \n",
      "{{.From}}  \n",
      "IT Security Team\n",
      "req_0c843c484ec1326c15a557ed5c7f8a37\n"
     ]
    }
   ],
   "source": [
    "#import openai\n",
    "from openai import OpenAI, APIConnectionError, RateLimitError, APIStatusError\n",
    "\n",
    "with OpenAI() as client:\n",
    "    try:\n",
    "      mail_body = client.chat.completions.create(\n",
    "          model=\"gpt-4o-mini\",\n",
    "          messages=[{\"role\": \"developer\", \"content\": developer_message},\n",
    "          {\"role\": \"user\", \"content\": user_prompt.format(department=department)}],\n",
    "          temperature=0.7,\n",
    "          max_tokens=300\n",
    "      )\n",
    "    except APIConnectionError as e:\n",
    "      print(\"The server could not be reached\")\n",
    "      print(e.__cause__)  # an underlying Exception, likely raised within httpx.\n",
    "    except RateLimitError as e:\n",
    "      print(\"A 429 status code was received; we should back off a bit.\")\n",
    "    except APIStatusError as e:\n",
    "      print(\"Another non-200-range status code was received\")\n",
    "      print(e.status_code)\n",
    "      print(e.response)\n",
    "\n",
    "print(mail_body.choices[0].message.content)\n",
    "\n",
    "print(mail_body._request_id)"
   ]
  },
  {
   "cell_type": "code",
   "execution_count": 24,
   "metadata": {},
   "outputs": [
    {
     "name": "stdout",
     "output_type": "stream",
     "text": [
      "Urgent: Action Required to Secure Your Account\n"
     ]
    }
   ],
   "source": [
    "with OpenAI() as client:\n",
    "    try:\n",
    "      mail_subject = client.chat.completions.create(\n",
    "          model=\"gpt-4o-mini\",\n",
    "          messages=[{\"role\": \"developer\", \"content\": developer_message_subject},\n",
    "          {\"role\": \"user\", \"content\": mail_body.choices[0].message.content}],\n",
    "          temperature=0.7,\n",
    "          max_tokens=300\n",
    "      )\n",
    "    except APIConnectionError as e:\n",
    "      print(\"The server could not be reached\")\n",
    "      print(e.__cause__)  # an underlying Exception, likely raised within httpx.\n",
    "    except RateLimitError as e:\n",
    "      print(\"A 429 status code was received; we should back off a bit.\")\n",
    "    except APIStatusError as e:\n",
    "      print(\"Another non-200-range status code was received\")\n",
    "      print(e.status_code)\n",
    "      print(e.response)\n",
    "\n",
    "print(mail_subject.choices[0].message.content)"
   ]
  },
  {
   "cell_type": "code",
   "execution_count": null,
   "metadata": {},
   "outputs": [],
   "source": [
    "import pandas as pd\n",
    "from openai import OpenAI\n",
    "\n",
    "# Set your OpenAI API key\n",
    "openai.api_key = \"your-api-key\"\n",
    "\n",
    "# Load the file containing target details\n",
    "# Assuming the file is a CSV with columns: name, surname, email, role, department, interest\n",
    "targets = pd.read_csv(\"targets.csv\")\n",
    "\n",
    "# Function to create a custom phishing email\n",
    "def generate_phishing_email(name, surname, email, role, department, interest):\n",
    "    # Craft a detailed prompt using the target's information\n",
    "    prompt = f\"\"\"\n",
    "    Write a fake phishing email pretending to be from the company's IT department. The email should:\n",
    "    - Be addressed to {name} {surname}.\n",
    "    - Use their role, {role}, and department, {department}, to make it sound credible.\n",
    "    - Mention a work-related topic they might be interested in, such as {interest}.\n",
    "    - Request the recipient to click on a link to update their password for the company's internal system.\n",
    "    - Sound urgent and professional, but with subtle hints that it may be suspicious.\n",
    "    - Include a fake but realistic-looking URL.\n",
    "    \"\"\"\n",
    "    with OpenAI() as client:\n",
    "        try:\n",
    "            # Use OpenAI GPT-4 API to generate the email\n",
    "            response = client.chat.completions.create(\n",
    "                model=\"gpt-4o-mini\",\n",
    "                messages=[{\"role\": \"system\", \"content\": \"You are an email generator.\"},\n",
    "                        {\"role\": \"user\", \"content\": prompt}],\n",
    "                temperature=0.7,\n",
    "                max_tokens=300\n",
    "            )\n",
    "        except openai.APIConnectionError as e:\n",
    "            print(\"The server could not be reached\")\n",
    "            print(e.__cause__)  # an underlying Exception, likely raised within httpx.\n",
    "        except openai.RateLimitError as e:\n",
    "            print(\"A 429 status code was received; we should back off a bit.\")\n",
    "        except openai.APIStatusError as e:\n",
    "            print(\"Another non-200-range status code was received\")\n",
    "            print(e.status_code)\n",
    "            print(e.response)\n",
    "        \n",
    "    # Return the generated email content\n",
    "    return response.choices[0].message.content\n",
    "\n",
    "# Loop through each target and generate emails\n",
    "for index, target in targets.iterrows():\n",
    "    email_content = generate_phishing_email(\n",
    "        target['name'],\n",
    "        target['surname'],\n",
    "        target['email'],\n",
    "        target['role'],\n",
    "        target['department'],\n",
    "        target['interest']\n",
    "    )\n",
    "    print(f\"Generated email for {target['name']} {target['surname']}:\\n\")\n",
    "    print(email_content)\n",
    "    print(\"\\n\" + \"=\"*50 + \"\\n\")"
   ]
  }
 ],
 "metadata": {
  "kernelspec": {
   "display_name": "phishing-analysis-env",
   "language": "python",
   "name": "python3"
  },
  "language_info": {
   "codemirror_mode": {
    "name": "ipython",
    "version": 3
   },
   "file_extension": ".py",
   "mimetype": "text/x-python",
   "name": "python",
   "nbconvert_exporter": "python",
   "pygments_lexer": "ipython3",
   "version": "3.11.11"
  }
 },
 "nbformat": 4,
 "nbformat_minor": 2
}
