{
 "cells": [
  {
   "cell_type": "code",
   "execution_count": 1,
   "metadata": {},
   "outputs": [],
   "source": [
    "import requests\n",
    "import json"
   ]
  },
  {
   "cell_type": "code",
   "execution_count": 2,
   "metadata": {},
   "outputs": [],
   "source": [
    "BASE_URL = 'http://127.0.0.1:8000'"
   ]
  },
  {
   "cell_type": "code",
   "execution_count": 3,
   "metadata": {},
   "outputs": [],
   "source": [
    "with open('../input_data_prompts_topics/Employee.json') as f:\n",
    "    recipient_json = json.load(f)"
   ]
  },
  {
   "cell_type": "code",
   "execution_count": 18,
   "metadata": {},
   "outputs": [],
   "source": [
    "response = requests.post(f\"{BASE_URL}/recipients/upload-json/\", json=recipient_json)"
   ]
  },
  {
   "cell_type": "code",
   "execution_count": 19,
   "metadata": {},
   "outputs": [
    {
     "data": {
      "text/plain": [
       "{'message': 'Recipients uploaded successfully!',\n",
       " 'database': [{'first_name': 'Sophie',\n",
       "   'last_name': 'Martin',\n",
       "   'email': 'd73176539@gmail.com',\n",
       "   'department': 'Research and Development (R&D)'},\n",
       "  {'first_name': 'Liam',\n",
       "   'last_name': 'Dupont',\n",
       "   'email': 'ana.rosales4580@gmail.com',\n",
       "   'department': 'Product Development'},\n",
       "  {'first_name': 'Maxime',\n",
       "   'last_name': 'Lefevre',\n",
       "   'email': 'olha.devproject@gmail.com',\n",
       "   'department': 'Customer Support'},\n",
       "  {'first_name': 'Clara',\n",
       "   'last_name': 'Fontaine',\n",
       "   'email': 'devmail.kvnpotter@gmail.com',\n",
       "   'department': 'Legal and Compliance'},\n",
       "  {'first_name': 'Julien',\n",
       "   'last_name': 'Robert',\n",
       "   'email': 'f.student71@gmail.com',\n",
       "   'department': 'Finance & Accounting'},\n",
       "  {'first_name': 'Antoine',\n",
       "   'last_name': 'Petit',\n",
       "   'email': 'ms.dev612@gmail.com',\n",
       "   'department': 'IT Support Services'}]}"
      ]
     },
     "execution_count": 19,
     "metadata": {},
     "output_type": "execute_result"
    }
   ],
   "source": [
    "response.json()"
   ]
  },
  {
   "cell_type": "code",
   "execution_count": 20,
   "metadata": {},
   "outputs": [],
   "source": [
    "response = requests.get(f\"{BASE_URL}/campaign/launch/\")"
   ]
  },
  {
   "cell_type": "code",
   "execution_count": 21,
   "metadata": {},
   "outputs": [
    {
     "data": {
      "text/plain": [
       "{'message': 'Campaign launched successfully!'}"
      ]
     },
     "execution_count": 21,
     "metadata": {},
     "output_type": "execute_result"
    }
   ],
   "source": [
    "response.json()"
   ]
  }
 ],
 "metadata": {
  "kernelspec": {
   "display_name": "phishing-analysis-env",
   "language": "python",
   "name": "python3"
  },
  "language_info": {
   "codemirror_mode": {
    "name": "ipython",
    "version": 3
   },
   "file_extension": ".py",
   "mimetype": "text/x-python",
   "name": "python",
   "nbconvert_exporter": "python",
   "pygments_lexer": "ipython3",
   "version": "3.11.11"
  }
 },
 "nbformat": 4,
 "nbformat_minor": 2
}
