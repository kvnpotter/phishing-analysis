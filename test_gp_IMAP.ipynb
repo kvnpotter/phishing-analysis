{
 "cells": [
  {
   "cell_type": "code",
   "execution_count": 77,
   "metadata": {},
   "outputs": [],
   "source": [
    "from CampaignCreator.environment_setup import load_env"
   ]
  },
  {
   "cell_type": "code",
   "execution_count": 78,
   "metadata": {},
   "outputs": [],
   "source": [
    "result = load_env()"
   ]
  },
  {
   "cell_type": "code",
   "execution_count": 79,
   "metadata": {},
   "outputs": [],
   "source": [
    "from GoPhishConnector import gp_connect"
   ]
  },
  {
   "cell_type": "code",
   "execution_count": 80,
   "metadata": {},
   "outputs": [],
   "source": [
    "gp_api = gp_connect()"
   ]
  },
  {
   "cell_type": "code",
   "execution_count": 81,
   "metadata": {},
   "outputs": [
    {
     "name": "stderr",
     "output_type": "stream",
     "text": [
      "c:\\Users\\kvnpo\\anaconda3\\envs\\phishing-analysis-env\\Lib\\site-packages\\urllib3\\connectionpool.py:1097: InsecureRequestWarning: Unverified HTTPS request is being made to host '127.0.0.1'. Adding certificate verification is strongly advised. See: https://urllib3.readthedocs.io/en/latest/advanced-usage.html#tls-warnings\n",
      "  warnings.warn(\n"
     ]
    }
   ],
   "source": [
    "campaigns = gp_api.campaigns.get()"
   ]
  },
  {
   "cell_type": "code",
   "execution_count": 83,
   "metadata": {},
   "outputs": [
    {
     "name": "stdout",
     "output_type": "stream",
     "text": [
      "1\n",
      "2\n",
      "3\n",
      "4\n",
      "5\n",
      "33\n"
     ]
    }
   ],
   "source": [
    "for campaign in campaigns:\n",
    "    print(campaign.id)"
   ]
  },
  {
   "cell_type": "code",
   "execution_count": 39,
   "metadata": {},
   "outputs": [],
   "source": [
    "import os"
   ]
  },
  {
   "cell_type": "code",
   "execution_count": 40,
   "metadata": {},
   "outputs": [],
   "source": [
    "from gophish.models import IMAP"
   ]
  },
  {
   "cell_type": "code",
   "execution_count": 44,
   "metadata": {},
   "outputs": [
    {
     "data": {
      "text/plain": [
       "'devmail.kvnpotter'"
      ]
     },
     "execution_count": 44,
     "metadata": {},
     "output_type": "execute_result"
    }
   ],
   "source": [
    "os.environ.get(\"gmail_username\")"
   ]
  },
  {
   "cell_type": "code",
   "execution_count": 59,
   "metadata": {},
   "outputs": [],
   "source": [
    "imap = IMAP(enabled= True,\n",
    "            host= \"imap.gmail.com\",\n",
    "            port= 993,\n",
    "            username= \"devmail.kvnpotter@gmail.com\",\n",
    "            password= os.environ.get(\"gmail_app_password\"),\n",
    "            tls= True,\n",
    "            delete_reported_campaign_email= False\n",
    "            )\n"
   ]
  },
  {
   "cell_type": "code",
   "execution_count": 61,
   "metadata": {},
   "outputs": [],
   "source": [
    "gmail_app_key = os.environ.get(\"gmail_app_password\")\n",
    "imap_settings = IMAP(\n",
    "    enabled=True,\n",
    "    host=\"imap.gmail.com\",\n",
    "    port=993,\n",
    "    username=\"devmail.kvnpotter@gmail.com\",\n",
    "    password=gmail_app_key,\n",
    "    tls=True,\n",
    "    folder=\"INBOX\",\n",
    "    restrict_domain=None,\n",
    "    delete_reported_campaign_email=False,\n",
    "    last_login=None,  # Or provide a specific date as a string, e.g., \"2025-01-01T12:00:00Z\"\n",
    "    modified_date=None,\n",
    "    imap_freq=60  # Frequency in minutes\n",
    ")"
   ]
  },
  {
   "cell_type": "code",
   "execution_count": null,
   "metadata": {},
   "outputs": [],
   "source": [
    "        'restrict_domain': None, str\n",
    "        'delete_reported_campaign_email': None, bool\n",
    "        'last_login': None, time.Time\n",
    "        'modified_date': None, time.Time\n",
    "        'imap_freq': None int (def 60)"
   ]
  },
  {
   "cell_type": "code",
   "execution_count": 11,
   "metadata": {},
   "outputs": [
    {
     "name": "stderr",
     "output_type": "stream",
     "text": [
      "c:\\Users\\kvnpo\\anaconda3\\envs\\phishing-analysis-env\\Lib\\site-packages\\urllib3\\connectionpool.py:1097: InsecureRequestWarning: Unverified HTTPS request is being made to host '127.0.0.1'. Adding certificate verification is strongly advised. See: https://urllib3.readthedocs.io/en/latest/advanced-usage.html#tls-warnings\n",
      "  warnings.warn(\n"
     ]
    }
   ],
   "source": [
    "gp_imap = gp_api.imap.get()"
   ]
  },
  {
   "cell_type": "code",
   "execution_count": 20,
   "metadata": {},
   "outputs": [
    {
     "data": {
      "text/plain": [
       "'993'"
      ]
     },
     "execution_count": 20,
     "metadata": {},
     "output_type": "execute_result"
    }
   ],
   "source": [
    "gp_imap[0].port"
   ]
  },
  {
   "cell_type": "code",
   "execution_count": 58,
   "metadata": {},
   "outputs": [
    {
     "data": {
      "text/plain": [
       "True"
      ]
     },
     "execution_count": 58,
     "metadata": {},
     "output_type": "execute_result"
    }
   ],
   "source": [
    "imap.tls"
   ]
  },
  {
   "cell_type": "code",
   "execution_count": 62,
   "metadata": {},
   "outputs": [
    {
     "name": "stderr",
     "output_type": "stream",
     "text": [
      "c:\\Users\\kvnpo\\anaconda3\\envs\\phishing-analysis-env\\Lib\\site-packages\\urllib3\\connectionpool.py:1097: InsecureRequestWarning: Unverified HTTPS request is being made to host '127.0.0.1'. Adding certificate verification is strongly advised. See: https://urllib3.readthedocs.io/en/latest/advanced-usage.html#tls-warnings\n",
      "  warnings.warn(\n"
     ]
    },
    {
     "ename": "Error",
     "evalue": "Invalid data. Please check your IMAP settings.",
     "output_type": "error",
     "traceback": [
      "\u001b[1;31m---------------------------------------------------------------------------\u001b[0m",
      "\u001b[1;31mError\u001b[0m                                     Traceback (most recent call last)",
      "Cell \u001b[1;32mIn[62], line 1\u001b[0m\n\u001b[1;32m----> 1\u001b[0m \u001b[43mgp_api\u001b[49m\u001b[38;5;241;43m.\u001b[39;49m\u001b[43mimap\u001b[49m\u001b[38;5;241;43m.\u001b[39;49m\u001b[43mpost\u001b[49m\u001b[43m(\u001b[49m\u001b[43mimap_settings\u001b[49m\u001b[43m)\u001b[49m\n",
      "File \u001b[1;32mc:\\Users\\kvnpo\\anaconda3\\envs\\phishing-analysis-env\\Lib\\site-packages\\gophish\\api\\imap.py:22\u001b[0m, in \u001b[0;36mAPI.post\u001b[1;34m(self, imap)\u001b[0m\n\u001b[0;32m     15\u001b[0m \u001b[38;5;28;01mdef\u001b[39;00m\u001b[38;5;250m \u001b[39m\u001b[38;5;21mpost\u001b[39m(\u001b[38;5;28mself\u001b[39m, imap):\n\u001b[0;32m     16\u001b[0m \u001b[38;5;250m    \u001b[39m\u001b[38;5;124;03m\"\"\"Updates the IMAP settings\u001b[39;00m\n\u001b[0;32m     17\u001b[0m \n\u001b[0;32m     18\u001b[0m \u001b[38;5;124;03m    Arguments:\u001b[39;00m\n\u001b[0;32m     19\u001b[0m \u001b[38;5;124;03m        imap {gophish.models.IMAP} -- The IMAP settings to configure\u001b[39;00m\n\u001b[0;32m     20\u001b[0m \u001b[38;5;124;03m    \"\"\"\u001b[39;00m\n\u001b[1;32m---> 22\u001b[0m     \u001b[38;5;28;01mreturn\u001b[39;00m \u001b[38;5;28;43msuper\u001b[39;49m\u001b[43m(\u001b[49m\u001b[43mAPI\u001b[49m\u001b[43m,\u001b[49m\u001b[43m \u001b[49m\u001b[38;5;28;43mself\u001b[39;49m\u001b[43m)\u001b[49m\u001b[38;5;241;43m.\u001b[39;49m\u001b[43mpost\u001b[49m\u001b[43m(\u001b[49m\u001b[43mimap\u001b[49m\u001b[43m)\u001b[49m\n",
      "File \u001b[1;32mc:\\Users\\kvnpo\\anaconda3\\envs\\phishing-analysis-env\\Lib\\site-packages\\gophish\\api\\api.py:106\u001b[0m, in \u001b[0;36mAPIEndpoint.post\u001b[1;34m(self, resource)\u001b[0m\n\u001b[0;32m    101\u001b[0m response \u001b[38;5;241m=\u001b[39m \u001b[38;5;28mself\u001b[39m\u001b[38;5;241m.\u001b[39mapi\u001b[38;5;241m.\u001b[39mexecute(\u001b[38;5;124m\"\u001b[39m\u001b[38;5;124mPOST\u001b[39m\u001b[38;5;124m\"\u001b[39m,\n\u001b[0;32m    102\u001b[0m                             \u001b[38;5;28mself\u001b[39m\u001b[38;5;241m.\u001b[39mendpoint,\n\u001b[0;32m    103\u001b[0m                             json\u001b[38;5;241m=\u001b[39m(resource\u001b[38;5;241m.\u001b[39mas_dict()))\n\u001b[0;32m    105\u001b[0m \u001b[38;5;28;01mif\u001b[39;00m \u001b[38;5;129;01mnot\u001b[39;00m response\u001b[38;5;241m.\u001b[39mok:\n\u001b[1;32m--> 106\u001b[0m     \u001b[38;5;28;01mraise\u001b[39;00m Error\u001b[38;5;241m.\u001b[39mparse(response\u001b[38;5;241m.\u001b[39mjson())\n\u001b[0;32m    108\u001b[0m \u001b[38;5;28;01mreturn\u001b[39;00m \u001b[38;5;28mself\u001b[39m\u001b[38;5;241m.\u001b[39m_cls\u001b[38;5;241m.\u001b[39mparse(response\u001b[38;5;241m.\u001b[39mjson())\n",
      "\u001b[1;31mError\u001b[0m: Invalid data. Please check your IMAP settings."
     ]
    }
   ],
   "source": [
    "gp_api.imap.post(imap_settings)"
   ]
  },
  {
   "cell_type": "code",
   "execution_count": 69,
   "metadata": {},
   "outputs": [],
   "source": [
    "dev_message = \"You are an email generation assistant helping a cybersecurity developer in generating phishing emails for employee training. The emails are part of a controlled phishing campaign for training employees to recognize phishing attempts. Your task is to generate realistic phishing emails based on the provided email subject and the provided details about the target, ensuring they sound plausible yet subtly suspicious. The emails should: - Be personalized, using the specified department the target works in and mail subject, to make the request seem credible. - Include realistic and professional language to mimic real phishing attempts. - Avoid being too obvious while maintaining a subtle level of suspicion. - Focus on specific phishing scenarios, such as password resets, account security warnings, or urgent requests. - Request urgent action, such as clicking a link or updating credentials. - Generating content relevant to the provided subject. - Signing the mail with the provided sender. Formatting rules: - Only write the body of the email. -Add appropriate html tags so that it is well-structured and ready to use in an email client. - Provide the email in HTML format. -Provide only the raw HTML code as output and do not use backticks in the begining. -Include after the bottom signature {tracker} - If included in the email body, format specific information as follows : * recipient first name = \\\"{{.FirstName}}\\\" * recipient last name = \\\"{{.LastName}}\\\" * recipient position = \\\"{{.Position}}\\\" * recipient email = \\\"{{.Email}}\\\" * sender email = \\\"{{.From}}\\\" * phishing URL = \\\"{{.URL}}\\\"\""
   ]
  },
  {
   "cell_type": "code",
   "execution_count": 70,
   "metadata": {},
   "outputs": [
    {
     "data": {
      "text/plain": [
       "str"
      ]
     },
     "execution_count": 70,
     "metadata": {},
     "output_type": "execute_result"
    }
   ],
   "source": [
    "type(dev_message)"
   ]
  },
  {
   "cell_type": "code",
   "execution_count": 75,
   "metadata": {},
   "outputs": [],
   "source": [
    "tracker = '\\\"<img src=\"{{.TrackerURL}}\" style=\"display:none\"/>\\\"'"
   ]
  },
  {
   "cell_type": "code",
   "execution_count": 76,
   "metadata": {},
   "outputs": [
    {
     "data": {
      "text/plain": [
       "'You are an email generation assistant helping a cybersecurity developer in generating phishing emails for employee training. The emails are part of a controlled phishing campaign for training employees to recognize phishing attempts. Your task is to generate realistic phishing emails based on the provided email subject and the provided details about the target, ensuring they sound plausible yet subtly suspicious. The emails should: - Be personalized, using the specified department the target works in and mail subject, to make the request seem credible. - Include realistic and professional language to mimic real phishing attempts. - Avoid being too obvious while maintaining a subtle level of suspicion. - Focus on specific phishing scenarios, such as password resets, account security warnings, or urgent requests. - Request urgent action, such as clicking a link or updating credentials. - Generating content relevant to the provided subject. - Signing the mail with the provided sender. Formatting rules: - Only write the body of the email. -Add appropriate html tags so that it is well-structured and ready to use in an email client. - Provide the email in HTML format. -Provide only the raw HTML code as output and do not use backticks in the begining. -Include after the bottom signature \"<img src=\"{{.TrackerURL}}\" style=\"display:none\"/>\" - If included in the email body, format specific information as follows : * recipient first name = \"{.FirstName}\" * recipient last name = \"{.LastName}\" * recipient position = \"{.Position}\" * recipient email = \"{.Email}\" * sender email = \"{.From}\" * phishing URL = \"{.URL}\"'"
      ]
     },
     "execution_count": 76,
     "metadata": {},
     "output_type": "execute_result"
    }
   ],
   "source": [
    "dev_message.format(tracker=tracker)"
   ]
  }
 ],
 "metadata": {
  "kernelspec": {
   "display_name": "phishing-analysis-env",
   "language": "python",
   "name": "python3"
  },
  "language_info": {
   "codemirror_mode": {
    "name": "ipython",
    "version": 3
   },
   "file_extension": ".py",
   "mimetype": "text/x-python",
   "name": "python",
   "nbconvert_exporter": "python",
   "pygments_lexer": "ipython3",
   "version": "3.11.11"
  }
 },
 "nbformat": 4,
 "nbformat_minor": 2
}
