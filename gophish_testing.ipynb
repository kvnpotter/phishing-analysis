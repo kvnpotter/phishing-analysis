{
 "cells": [
  {
   "cell_type": "code",
   "execution_count": 1,
   "metadata": {},
   "outputs": [],
   "source": [
    "import json\n",
    "\n",
    "key = \"a497f35ce60a99d930adb247ca5a473958524b6d879713fce4a6d609efb7f628\"\n",
    "keyd = {\"Gophish_API_Key\": key}\n",
    "keyjas = json.dumps(keyd)\n",
    "\n",
    "with open('config.json', 'w') as f:\n",
    "    f.write(keyjas)"
   ]
  },
  {
   "cell_type": "code",
   "execution_count": 1,
   "metadata": {},
   "outputs": [],
   "source": [
    "# Get API key from config.json file\n",
    "import json\n",
    "import os\n",
    "\n",
    "# Load the JSON file\n",
    "config_file = \"config.json\"  # Replace with your JSON file's name if different\n",
    "if os.path.exists(config_file):\n",
    "    with open(config_file, \"r\") as file:\n",
    "        config = json.load(file)\n",
    "        GOPHISH_API_KEY = config.get(\"Gophish_API_Key\")\n",
    "else:\n",
    "    raise FileNotFoundError(f\"Configuration file '{config_file}' not found.\")"
   ]
  },
  {
   "cell_type": "code",
   "execution_count": 8,
   "metadata": {},
   "outputs": [],
   "source": [
    "from gophish import Gophish\n",
    "api_key = GOPHISH_API_KEY\n",
    "api = Gophish(api_key, verify=False)"
   ]
  },
  {
   "cell_type": "code",
   "execution_count": 13,
   "metadata": {},
   "outputs": [
    {
     "name": "stdout",
     "output_type": "stream",
     "text": [
      "1\n"
     ]
    },
    {
     "name": "stderr",
     "output_type": "stream",
     "text": [
      "c:\\Users\\kvnpo\\anaconda3\\envs\\phishing-analysis-env\\Lib\\site-packages\\urllib3\\connectionpool.py:981: InsecureRequestWarning: Unverified HTTPS request is being made to host 'localhost'. Adding certificate verification is strongly advised. See: https://urllib3.readthedocs.io/en/latest/advanced-usage.html#ssl-warnings\n",
      "  warnings.warn(\n"
     ]
    }
   ],
   "source": [
    "from gophish.models import SMTP\n",
    "\n",
    "smtp = SMTP(name='Test SMTP')\n",
    "smtp.host = \"localhost:25\"\n",
    "smtp.from_address = \"John Doe <johndoe@example.com>\"\n",
    "smtp.interface_type = \"SMTP\"\n",
    "smtp.ignore_cert_errors = True\n",
    "\n",
    "smtp = api.smtp.post(smtp)\n",
    "print (smtp.id)"
   ]
  },
  {
   "cell_type": "code",
   "execution_count": 14,
   "metadata": {},
   "outputs": [
    {
     "name": "stdout",
     "output_type": "stream",
     "text": [
      "Test SMTP\n"
     ]
    },
    {
     "name": "stderr",
     "output_type": "stream",
     "text": [
      "c:\\Users\\kvnpo\\anaconda3\\envs\\phishing-analysis-env\\Lib\\site-packages\\urllib3\\connectionpool.py:981: InsecureRequestWarning: Unverified HTTPS request is being made to host 'localhost'. Adding certificate verification is strongly advised. See: https://urllib3.readthedocs.io/en/latest/advanced-usage.html#ssl-warnings\n",
      "  warnings.warn(\n"
     ]
    }
   ],
   "source": [
    "for smtp in api.smtp.get():\n",
    "    print (smtp.name)"
   ]
  },
  {
   "cell_type": "code",
   "execution_count": 15,
   "metadata": {},
   "outputs": [
    {
     "name": "stderr",
     "output_type": "stream",
     "text": [
      "c:\\Users\\kvnpo\\anaconda3\\envs\\phishing-analysis-env\\Lib\\site-packages\\urllib3\\connectionpool.py:981: InsecureRequestWarning: Unverified HTTPS request is being made to host 'localhost'. Adding certificate verification is strongly advised. See: https://urllib3.readthedocs.io/en/latest/advanced-usage.html#ssl-warnings\n",
      "  warnings.warn(\n"
     ]
    }
   ],
   "source": [
    "smtp = api.smtp.get()"
   ]
  },
  {
   "cell_type": "code",
   "execution_count": 19,
   "metadata": {},
   "outputs": [
    {
     "data": {
      "text/plain": [
       "'Test SMTP'"
      ]
     },
     "execution_count": 19,
     "metadata": {},
     "output_type": "execute_result"
    }
   ],
   "source": [
    "smtp[0].name"
   ]
  }
 ],
 "metadata": {
  "kernelspec": {
   "display_name": "phishing-analysis-env",
   "language": "python",
   "name": "python3"
  },
  "language_info": {
   "codemirror_mode": {
    "name": "ipython",
    "version": 3
   },
   "file_extension": ".py",
   "mimetype": "text/x-python",
   "name": "python",
   "nbconvert_exporter": "python",
   "pygments_lexer": "ipython3",
   "version": "3.11.11"
  }
 },
 "nbformat": 4,
 "nbformat_minor": 2
}
